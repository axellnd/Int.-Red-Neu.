{
  "nbformat": 4,
  "nbformat_minor": 0,
  "metadata": {
    "colab": {
      "provenance": []
    },
    "kernelspec": {
      "name": "python3",
      "display_name": "Python 3"
    },
    "language_info": {
      "name": "python"
    }
  },
  "cells": [
    {
      "cell_type": "code",
      "source": [
        "Actividad 2: Diseño de algoritmos en Python, Axel Moisés Espinoza Lindoro, 2002721, M4"
      ],
      "metadata": {
        "id": "2n-Hs0A5Bh1r"
      },
      "execution_count": null,
      "outputs": []
    },
    {
      "cell_type": "code",
      "execution_count": 4,
      "metadata": {
        "id": "j0f5ebVDNqor",
        "colab": {
          "base_uri": "https://localhost:8080/"
        },
        "outputId": "a07a9cb5-95f2-4221-875a-3a8e59871f88"
      },
      "outputs": [
        {
          "output_type": "stream",
          "name": "stdout",
          "text": [
            "Bienvenido\n",
            "¿Cuál es tu nombre?: Axel\n",
            "Hola Axel\n"
          ]
        }
      ],
      "source": [
        "print(\"Bienvenido\")\n",
        "x1 = input(\"¿Cuál es tu nombre?: \")\n",
        "\n",
        "if x1 == \"Ana\" or x1 == \"Juan\" or x1 == \"Pedro\":\n",
        "  print(\"Adios\")\n",
        "\n",
        "else:\n",
        "  print(\"Hola\", x1)"
      ]
    },
    {
      "cell_type": "code",
      "source": [
        "N = int(input(\"¿Cuántos elementos tiene su lista?: \"))\n",
        "\n",
        "lista = [N]\n",
        "print(\"Ingrese los elementos de la lista uno por uno:\")\n",
        "\n",
        "for i in range(N):\n",
        "    elemento = input(f\"Elemento {i+1}: \")\n",
        "    lista.append(elemento)\n",
        "\n",
        "lista_invertida = lista[::-1]\n",
        "\n",
        "print(\"Su lista invertida es:\")\n",
        "print(lista_invertida)\n"
      ],
      "metadata": {
        "id": "yO83fiNXPl7L",
        "colab": {
          "base_uri": "https://localhost:8080/"
        },
        "outputId": "efe79180-7462-40a8-9b87-ec98994cf042"
      },
      "execution_count": 7,
      "outputs": [
        {
          "output_type": "stream",
          "name": "stdout",
          "text": [
            "¿Cuántos elementos tiene su lista?: 3\n",
            "Ingrese los elementos de la lista uno por uno:\n",
            "Elemento 1: Tacos\n",
            "Elemento 2: Enchiladas\n",
            "Elemento 3: Sopes\n",
            "Su lista invertida es:\n",
            "['Sopes', 'Enchiladas', 'Tacos', 3]\n"
          ]
        }
      ]
    },
    {
      "cell_type": "markdown",
      "source": [],
      "metadata": {
        "id": "FB0WndR0eCb6"
      }
    },
    {
      "cell_type": "code",
      "source": [
        "fib = [0, 1]\n",
        "\n",
        "n = int(input (\"Ingrese el número de dígitos de la serie Fibonacci que desea imprimir, debe ser igual o mayor que 3: \"))\n",
        "\n",
        "for i in range(2,n):\n",
        "  fib.append(fib[i-1]+fib[i-2])\n",
        "\n",
        "print(\"La serie con\",n, \"dígitos, es\", fib)\n",
        "\n",
        "\n"
      ],
      "metadata": {
        "colab": {
          "base_uri": "https://localhost:8080/"
        },
        "id": "Zir3qmn1TIaT",
        "outputId": "5de55469-8f47-44ce-d7f6-dc2d3df50782"
      },
      "execution_count": 9,
      "outputs": [
        {
          "output_type": "stream",
          "name": "stdout",
          "text": [
            "Ingrese el número de dígitos de la serie Fibonacci que desea imprimir, debe ser igual o mayor que 3: 8\n",
            "La serie con 8 dígitos, es [0, 1, 1, 2, 3, 5, 8, 13]\n"
          ]
        }
      ]
    },
    {
      "cell_type": "code",
      "source": [
        "import random\n",
        "num = random.randint(1,100)\n",
        "intentos = 0\n",
        "intento = int(input(\"Adivina el número aleatorio del 1 al 100:\"))\n",
        "intentos += 1\n",
        "if intento == num:\n",
        "  print(\"¡Felicidades! haz ganado en\", intentos,\"intentos\")\n",
        "elif intento < num:\n",
        "  print(\"El número es mayor.\")\n",
        "else:\n",
        "  print(\"El número es menor.\")\n",
        "while intento != num:\n",
        "    intento = int(input(\"Adivine el número:\"))\n",
        "    intentos += 1\n",
        "    if intento == num:\n",
        "      print(\"¡Felicidades! haz ganado en\", intentos,\"intentos\")\n",
        "    elif intento < num:\n",
        "      print(\"El número es mayor.\")\n",
        "    else:\n",
        "      print(\"El número es menor.\")\n",
        "\n",
        "\n"
      ],
      "metadata": {
        "id": "tlBCRRTxTImn",
        "colab": {
          "base_uri": "https://localhost:8080/"
        },
        "outputId": "331a61ad-a76c-4e30-d673-edb899515f80"
      },
      "execution_count": 82,
      "outputs": [
        {
          "output_type": "stream",
          "name": "stdout",
          "text": [
            "Adivina el número aleatorio del 1 al 100:48\n",
            "El número es menor.\n",
            "Adivine el número:32\n",
            "El número es mayor.\n",
            "Adivine el número:38\n",
            "El número es menor.\n",
            "Adivine el número:34\n",
            "El número es menor.\n",
            "Adivine el número:33\n",
            "¡Felicidades! haz ganado en 5 intentos\n"
          ]
        }
      ]
    },
    {
      "cell_type": "code",
      "source": [
        "def es_primo(numero):\n",
        "    if numero < 2:\n",
        "        return False\n",
        "    for i in range(2, int(numero ** 0.5) + 1):\n",
        "        if numero % i == 0:\n",
        "            return False\n",
        "    return True\n",
        "\n",
        "def encontrar_primos_en_rango(rango_inferior, rango_superior):\n",
        "    primos = []\n",
        "    for numero in range(rango_inferior, rango_superior + 1):\n",
        "        if es_primo(numero):\n",
        "            primos.append(numero)\n",
        "    return primos\n",
        "\n",
        "rango_inferior = int(input(\"Ingrese el límite inferior del rango: \"))\n",
        "rango_superior = int(input(\"Ingrese el límite superior del rango: \"))\n",
        "\n",
        "print(\"Números primos dentro del rango de\", rango_inferior, \"a\", rango_superior, \":\")\n",
        "primos_en_rango = encontrar_primos_en_rango(rango_inferior, rango_superior)\n",
        "if primos_en_rango:\n",
        "    print(primos_en_rango)\n",
        "else:\n",
        "    print(\"No se encontraron números primos en el rango dado.\")"
      ],
      "metadata": {
        "id": "B7K1duMxTI0Z",
        "colab": {
          "base_uri": "https://localhost:8080/"
        },
        "outputId": "b106eb86-ed69-4086-b3fd-b45a5a9e76f1"
      },
      "execution_count": 3,
      "outputs": [
        {
          "output_type": "stream",
          "name": "stdout",
          "text": [
            "Ingrese el límite inferior del rango: 3\n",
            "Ingrese el límite superior del rango: 20\n",
            "Números primos dentro del rango de 3 a 20 :\n",
            "[3, 5, 7, 11, 13, 17, 19]\n"
          ]
        }
      ]
    },
    {
      "cell_type": "code",
      "source": [
        "def suma(a, b):\n",
        "    return a + b\n",
        "\n",
        "def resta(a, b):\n",
        "    return a - b\n",
        "\n",
        "def multiplicacion(a, b):\n",
        "    return a * b\n",
        "\n",
        "def division(a, b):\n",
        "    if b == 0:\n",
        "        return \"No se puede dividir entre cero\"\n",
        "    return a / b\n",
        "\n",
        "num1 = float(input(\"Ingrese el primer número: \"))\n",
        "num2 = float(input(\"Ingrese el segundo número: \"))\n",
        "\n",
        "print(\"Suma:\", suma(num1, num2))\n",
        "print(\"Resta:\", resta(num1, num2))\n",
        "print(\"Multiplicación:\", multiplicacion(num1, num2))\n",
        "print(\"División:\", division(num1, num2))"
      ],
      "metadata": {
        "id": "iUsA1MKuTJBQ",
        "colab": {
          "base_uri": "https://localhost:8080/"
        },
        "outputId": "7b06078c-d7b9-4602-e774-7dd1e3d1854a"
      },
      "execution_count": 84,
      "outputs": [
        {
          "output_type": "stream",
          "name": "stdout",
          "text": [
            "Ingrese el primer número: 4\n",
            "Ingrese el segundo número: 5\n",
            "Suma: 9.0\n",
            "Resta: -1.0\n",
            "Multiplicación: 20.0\n",
            "División: 0.8\n"
          ]
        }
      ]
    }
  ]
}